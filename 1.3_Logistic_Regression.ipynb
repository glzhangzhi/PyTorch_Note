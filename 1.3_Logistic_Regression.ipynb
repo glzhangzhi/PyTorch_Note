{
 "cells": [
  {
   "cell_type": "code",
   "execution_count": null,
   "metadata": {},
   "outputs": [],
   "source": [
    "import torch\n",
    "import torch.nn as nn\n",
    "import torchvision\n",
    "import torchvision.transforms as transforms"
   ]
  },
  {
   "cell_type": "code",
   "execution_count": null,
   "metadata": {},
   "outputs": [],
   "source": [
    "input_size = 28 * 28\n",
    "num_class = 10\n",
    "num_epochs = 5\n",
    "batch_size = 100\n",
    "learning_rate = 0.001"
   ]
  },
  {
   "cell_type": "code",
   "execution_count": 7,
   "metadata": {},
   "outputs": [],
   "source": [
    "train_dataset = torchvision.datasets.MNIST(root='D:/',\n",
    "                                            train=True,\n",
    "                                            transform=transforms.ToTensor(),\n",
    "                                            download=False)\n",
    "test_dataset = torchvision.datasets.MNIST(root='D:/',\n",
    "                                            train=False,\n",
    "                                            transform=transforms.ToTensor())"
   ]
  },
  {
   "cell_type": "code",
   "execution_count": 8,
   "metadata": {},
   "outputs": [],
   "source": [
    "train_loader = torch.utils.data.DataLoader(dataset=train_dataset,\n",
    "                                            batch_size=batch_size,\n",
    "                                            shuffle=True)\n",
    "test_loader = torch.utils.data.DataLoader(dataset=test_dataset,\n",
    "                                            batch_size=batch_size,\n",
    "                                            shuffle=False)"
   ]
  },
  {
   "cell_type": "code",
   "execution_count": 9,
   "metadata": {},
   "outputs": [],
   "source": [
    "model = nn.Linear(input_size, num_class)"
   ]
  },
  {
   "cell_type": "code",
   "execution_count": 10,
   "metadata": {},
   "outputs": [],
   "source": [
    "criterion = nn.CrossEntropyLoss()\n",
    "optimizer = torch.optim.SGD(model.parameters(), lr=learning_rate)"
   ]
  },
  {
   "cell_type": "code",
   "execution_count": 11,
   "metadata": {},
   "outputs": [
    {
     "name": "stdout",
     "output_type": "stream",
     "text": [
      "Epoch [1/5], Step [100/600], Loss: 2.2148\n",
      "Epoch [1/5], Step [200/600], Loss: 2.0837\n",
      "Epoch [1/5], Step [300/600], Loss: 2.0285\n",
      "Epoch [1/5], Step [400/600], Loss: 1.9196\n",
      "Epoch [1/5], Step [500/600], Loss: 1.8766\n",
      "Epoch [1/5], Step [600/600], Loss: 1.7607\n",
      "Epoch [2/5], Step [100/600], Loss: 1.7004\n",
      "Epoch [2/5], Step [200/600], Loss: 1.7222\n",
      "Epoch [2/5], Step [300/600], Loss: 1.5743\n",
      "Epoch [2/5], Step [400/600], Loss: 1.6198\n",
      "Epoch [2/5], Step [500/600], Loss: 1.5473\n",
      "Epoch [2/5], Step [600/600], Loss: 1.4426\n",
      "Epoch [3/5], Step [100/600], Loss: 1.3970\n",
      "Epoch [3/5], Step [200/600], Loss: 1.4549\n",
      "Epoch [3/5], Step [300/600], Loss: 1.3395\n",
      "Epoch [3/5], Step [400/600], Loss: 1.3364\n",
      "Epoch [3/5], Step [500/600], Loss: 1.2074\n",
      "Epoch [3/5], Step [600/600], Loss: 1.2574\n",
      "Epoch [4/5], Step [100/600], Loss: 1.3279\n",
      "Epoch [4/5], Step [200/600], Loss: 1.1490\n",
      "Epoch [4/5], Step [300/600], Loss: 1.1553\n",
      "Epoch [4/5], Step [400/600], Loss: 1.0896\n",
      "Epoch [4/5], Step [500/600], Loss: 1.0994\n",
      "Epoch [4/5], Step [600/600], Loss: 1.1445\n",
      "Epoch [5/5], Step [100/600], Loss: 1.0669\n",
      "Epoch [5/5], Step [200/600], Loss: 0.9938\n",
      "Epoch [5/5], Step [300/600], Loss: 1.0600\n",
      "Epoch [5/5], Step [400/600], Loss: 0.9004\n",
      "Epoch [5/5], Step [500/600], Loss: 1.1016\n",
      "Epoch [5/5], Step [600/600], Loss: 0.9190\n"
     ]
    }
   ],
   "source": [
    "total_step = len(train_loader)\n",
    "for epoch in range(num_epochs):\n",
    "    for i, (images, labels) in enumerate(train_loader):\n",
    "        images = images.reshape(-1, input_size)\n",
    "        \n",
    "        outputs = model(images)\n",
    "        loss = criterion(outputs, labels)\n",
    "        \n",
    "        optimizer.zero_grad()\n",
    "        loss.backward()\n",
    "        optimizer.step()\n",
    "        \n",
    "        if (i + 1) % 100 == 0:\n",
    "            print(f'Epoch [{epoch + 1}/{num_epochs}], Step [{i + 1}/{total_step}], Loss: {loss.item():0.4f}')"
   ]
  },
  {
   "cell_type": "code",
   "execution_count": 14,
   "metadata": {},
   "outputs": [
    {
     "name": "stdout",
     "output_type": "stream",
     "text": [
      "Accuracy of the model on the 10000 test image: 83.05999755859375%\n"
     ]
    }
   ],
   "source": [
    "with torch.no_grad():\n",
    "    correct = 0\n",
    "    total = 0\n",
    "    for images, labels in test_loader:\n",
    "        images = images.reshape(-1, input_size)\n",
    "        outputs = model(images)\n",
    "        _, predicted = torch.max(outputs.data, 1)\n",
    "        total += labels.size(0)\n",
    "        correct += (predicted == labels).sum()\n",
    "    \n",
    "    print(f'Accuracy of the model on the 10000 test image: {100 * correct / total}%')"
   ]
  },
  {
   "cell_type": "code",
   "execution_count": 15,
   "metadata": {},
   "outputs": [],
   "source": [
    "torch.save(model.state_dict(), 'model.ckpt')"
   ]
  }
 ],
 "metadata": {
  "kernelspec": {
   "display_name": "Python 3.10.6 ('eeg-pytorch')",
   "language": "python",
   "name": "python3"
  },
  "language_info": {
   "codemirror_mode": {
    "name": "ipython",
    "version": 3
   },
   "file_extension": ".py",
   "mimetype": "text/x-python",
   "name": "python",
   "nbconvert_exporter": "python",
   "pygments_lexer": "ipython3",
   "version": "3.10.6"
  },
  "orig_nbformat": 4,
  "vscode": {
   "interpreter": {
    "hash": "2c312bfefed63d85b4063ca599832426b345a79afbc56a1175375e10cebf67cb"
   }
  }
 },
 "nbformat": 4,
 "nbformat_minor": 2
}
